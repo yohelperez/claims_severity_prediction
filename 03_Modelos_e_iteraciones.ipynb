{
  "cells": [
    {
      "cell_type": "markdown",
      "id": "fac6e07b",
      "metadata": {
        "id": "fac6e07b"
      },
      "source": [
        "<a href=\"https://githubtocolab.com/rramosp/ai4eng_example_project/blob/main/03%20-%20Modelos-e-iteraciones.ipynb\" target=\"_parent\"><img src=\"https://colab.research.google.com/assets/colab-badge.svg\" alt=\"Open in Colab\"/></a>"
      ]
    },
    {
      "cell_type": "markdown",
      "source": [
        "##1. Carga de dataset desde Kaggle"
      ],
      "metadata": {
        "id": "3sU9240kdYqh"
      },
      "id": "3sU9240kdYqh"
    },
    {
      "cell_type": "markdown",
      "source": [
        "El dataset es tomado de la competencia de Kaggle: https://www.kaggle.com/competitions/allstate-claims-severity/data"
      ],
      "metadata": {
        "id": "CIrW6jkBWiXY"
      },
      "id": "CIrW6jkBWiXY"
    },
    {
      "cell_type": "code",
      "source": [
        "!pip install kaggle"
      ],
      "metadata": {
        "colab": {
          "base_uri": "https://localhost:8080/"
        },
        "id": "ijR3GI5gTWtv",
        "outputId": "4c8b1938-9a9d-4e08-86d6-559c359b1515"
      },
      "execution_count": null,
      "outputs": [
        {
          "output_type": "stream",
          "name": "stdout",
          "text": [
            "Looking in indexes: https://pypi.org/simple, https://us-python.pkg.dev/colab-wheels/public/simple/\n",
            "Requirement already satisfied: kaggle in /usr/local/lib/python3.10/dist-packages (1.5.13)\n",
            "Requirement already satisfied: six>=1.10 in /usr/local/lib/python3.10/dist-packages (from kaggle) (1.16.0)\n",
            "Requirement already satisfied: certifi in /usr/local/lib/python3.10/dist-packages (from kaggle) (2022.12.7)\n",
            "Requirement already satisfied: python-dateutil in /usr/local/lib/python3.10/dist-packages (from kaggle) (2.8.2)\n",
            "Requirement already satisfied: requests in /usr/local/lib/python3.10/dist-packages (from kaggle) (2.27.1)\n",
            "Requirement already satisfied: tqdm in /usr/local/lib/python3.10/dist-packages (from kaggle) (4.65.0)\n",
            "Requirement already satisfied: python-slugify in /usr/local/lib/python3.10/dist-packages (from kaggle) (8.0.1)\n",
            "Requirement already satisfied: urllib3 in /usr/local/lib/python3.10/dist-packages (from kaggle) (1.26.15)\n",
            "Requirement already satisfied: text-unidecode>=1.3 in /usr/local/lib/python3.10/dist-packages (from python-slugify->kaggle) (1.3)\n",
            "Requirement already satisfied: charset-normalizer~=2.0.0 in /usr/local/lib/python3.10/dist-packages (from requests->kaggle) (2.0.12)\n",
            "Requirement already satisfied: idna<4,>=2.5 in /usr/local/lib/python3.10/dist-packages (from requests->kaggle) (3.4)\n"
          ]
        }
      ],
      "id": "ijR3GI5gTWtv"
    },
    {
      "cell_type": "code",
      "source": [
        "#carga del token de kaggle\n",
        "\n",
        "from google.colab import files \n",
        "files.upload()"
      ],
      "metadata": {
        "id": "iEJQGQ0_4z95",
        "colab": {
          "base_uri": "https://localhost:8080/",
          "height": 108
        },
        "outputId": "310232f7-31ae-4d70-e534-fd7d13b4920a"
      },
      "execution_count": null,
      "outputs": [
        {
          "output_type": "display_data",
          "data": {
            "text/plain": [
              "<IPython.core.display.HTML object>"
            ],
            "text/html": [
              "\n",
              "     <input type=\"file\" id=\"files-c98bb38c-2296-48c8-9767-4446f5670f7e\" name=\"files[]\" multiple disabled\n",
              "        style=\"border:none\" />\n",
              "     <output id=\"result-c98bb38c-2296-48c8-9767-4446f5670f7e\">\n",
              "      Upload widget is only available when the cell has been executed in the\n",
              "      current browser session. Please rerun this cell to enable.\n",
              "      </output>\n",
              "      <script>// Copyright 2017 Google LLC\n",
              "//\n",
              "// Licensed under the Apache License, Version 2.0 (the \"License\");\n",
              "// you may not use this file except in compliance with the License.\n",
              "// You may obtain a copy of the License at\n",
              "//\n",
              "//      http://www.apache.org/licenses/LICENSE-2.0\n",
              "//\n",
              "// Unless required by applicable law or agreed to in writing, software\n",
              "// distributed under the License is distributed on an \"AS IS\" BASIS,\n",
              "// WITHOUT WARRANTIES OR CONDITIONS OF ANY KIND, either express or implied.\n",
              "// See the License for the specific language governing permissions and\n",
              "// limitations under the License.\n",
              "\n",
              "/**\n",
              " * @fileoverview Helpers for google.colab Python module.\n",
              " */\n",
              "(function(scope) {\n",
              "function span(text, styleAttributes = {}) {\n",
              "  const element = document.createElement('span');\n",
              "  element.textContent = text;\n",
              "  for (const key of Object.keys(styleAttributes)) {\n",
              "    element.style[key] = styleAttributes[key];\n",
              "  }\n",
              "  return element;\n",
              "}\n",
              "\n",
              "// Max number of bytes which will be uploaded at a time.\n",
              "const MAX_PAYLOAD_SIZE = 100 * 1024;\n",
              "\n",
              "function _uploadFiles(inputId, outputId) {\n",
              "  const steps = uploadFilesStep(inputId, outputId);\n",
              "  const outputElement = document.getElementById(outputId);\n",
              "  // Cache steps on the outputElement to make it available for the next call\n",
              "  // to uploadFilesContinue from Python.\n",
              "  outputElement.steps = steps;\n",
              "\n",
              "  return _uploadFilesContinue(outputId);\n",
              "}\n",
              "\n",
              "// This is roughly an async generator (not supported in the browser yet),\n",
              "// where there are multiple asynchronous steps and the Python side is going\n",
              "// to poll for completion of each step.\n",
              "// This uses a Promise to block the python side on completion of each step,\n",
              "// then passes the result of the previous step as the input to the next step.\n",
              "function _uploadFilesContinue(outputId) {\n",
              "  const outputElement = document.getElementById(outputId);\n",
              "  const steps = outputElement.steps;\n",
              "\n",
              "  const next = steps.next(outputElement.lastPromiseValue);\n",
              "  return Promise.resolve(next.value.promise).then((value) => {\n",
              "    // Cache the last promise value to make it available to the next\n",
              "    // step of the generator.\n",
              "    outputElement.lastPromiseValue = value;\n",
              "    return next.value.response;\n",
              "  });\n",
              "}\n",
              "\n",
              "/**\n",
              " * Generator function which is called between each async step of the upload\n",
              " * process.\n",
              " * @param {string} inputId Element ID of the input file picker element.\n",
              " * @param {string} outputId Element ID of the output display.\n",
              " * @return {!Iterable<!Object>} Iterable of next steps.\n",
              " */\n",
              "function* uploadFilesStep(inputId, outputId) {\n",
              "  const inputElement = document.getElementById(inputId);\n",
              "  inputElement.disabled = false;\n",
              "\n",
              "  const outputElement = document.getElementById(outputId);\n",
              "  outputElement.innerHTML = '';\n",
              "\n",
              "  const pickedPromise = new Promise((resolve) => {\n",
              "    inputElement.addEventListener('change', (e) => {\n",
              "      resolve(e.target.files);\n",
              "    });\n",
              "  });\n",
              "\n",
              "  const cancel = document.createElement('button');\n",
              "  inputElement.parentElement.appendChild(cancel);\n",
              "  cancel.textContent = 'Cancel upload';\n",
              "  const cancelPromise = new Promise((resolve) => {\n",
              "    cancel.onclick = () => {\n",
              "      resolve(null);\n",
              "    };\n",
              "  });\n",
              "\n",
              "  // Wait for the user to pick the files.\n",
              "  const files = yield {\n",
              "    promise: Promise.race([pickedPromise, cancelPromise]),\n",
              "    response: {\n",
              "      action: 'starting',\n",
              "    }\n",
              "  };\n",
              "\n",
              "  cancel.remove();\n",
              "\n",
              "  // Disable the input element since further picks are not allowed.\n",
              "  inputElement.disabled = true;\n",
              "\n",
              "  if (!files) {\n",
              "    return {\n",
              "      response: {\n",
              "        action: 'complete',\n",
              "      }\n",
              "    };\n",
              "  }\n",
              "\n",
              "  for (const file of files) {\n",
              "    const li = document.createElement('li');\n",
              "    li.append(span(file.name, {fontWeight: 'bold'}));\n",
              "    li.append(span(\n",
              "        `(${file.type || 'n/a'}) - ${file.size} bytes, ` +\n",
              "        `last modified: ${\n",
              "            file.lastModifiedDate ? file.lastModifiedDate.toLocaleDateString() :\n",
              "                                    'n/a'} - `));\n",
              "    const percent = span('0% done');\n",
              "    li.appendChild(percent);\n",
              "\n",
              "    outputElement.appendChild(li);\n",
              "\n",
              "    const fileDataPromise = new Promise((resolve) => {\n",
              "      const reader = new FileReader();\n",
              "      reader.onload = (e) => {\n",
              "        resolve(e.target.result);\n",
              "      };\n",
              "      reader.readAsArrayBuffer(file);\n",
              "    });\n",
              "    // Wait for the data to be ready.\n",
              "    let fileData = yield {\n",
              "      promise: fileDataPromise,\n",
              "      response: {\n",
              "        action: 'continue',\n",
              "      }\n",
              "    };\n",
              "\n",
              "    // Use a chunked sending to avoid message size limits. See b/62115660.\n",
              "    let position = 0;\n",
              "    do {\n",
              "      const length = Math.min(fileData.byteLength - position, MAX_PAYLOAD_SIZE);\n",
              "      const chunk = new Uint8Array(fileData, position, length);\n",
              "      position += length;\n",
              "\n",
              "      const base64 = btoa(String.fromCharCode.apply(null, chunk));\n",
              "      yield {\n",
              "        response: {\n",
              "          action: 'append',\n",
              "          file: file.name,\n",
              "          data: base64,\n",
              "        },\n",
              "      };\n",
              "\n",
              "      let percentDone = fileData.byteLength === 0 ?\n",
              "          100 :\n",
              "          Math.round((position / fileData.byteLength) * 100);\n",
              "      percent.textContent = `${percentDone}% done`;\n",
              "\n",
              "    } while (position < fileData.byteLength);\n",
              "  }\n",
              "\n",
              "  // All done.\n",
              "  yield {\n",
              "    response: {\n",
              "      action: 'complete',\n",
              "    }\n",
              "  };\n",
              "}\n",
              "\n",
              "scope.google = scope.google || {};\n",
              "scope.google.colab = scope.google.colab || {};\n",
              "scope.google.colab._files = {\n",
              "  _uploadFiles,\n",
              "  _uploadFilesContinue,\n",
              "};\n",
              "})(self);\n",
              "</script> "
            ]
          },
          "metadata": {}
        },
        {
          "output_type": "stream",
          "name": "stdout",
          "text": [
            "Saving kaggle.json to kaggle.json\n"
          ]
        },
        {
          "output_type": "execute_result",
          "data": {
            "text/plain": [
              "{'kaggle.json': b'{\"username\":\"tatianasanchez1\",\"key\":\"89e2f6fbfe92a172129c5ee2b3bed732\"}'}"
            ]
          },
          "metadata": {},
          "execution_count": 2
        }
      ],
      "id": "iEJQGQ0_4z95"
    },
    {
      "cell_type": "code",
      "source": [
        "! mkdir ~/.kaggle"
      ],
      "metadata": {
        "id": "rGOpMxRXYJTe"
      },
      "execution_count": null,
      "outputs": [],
      "id": "rGOpMxRXYJTe"
    },
    {
      "cell_type": "code",
      "source": [
        "! cp kaggle.json ~/.kaggle/"
      ],
      "metadata": {
        "id": "iikuWp7qYVXq"
      },
      "execution_count": null,
      "outputs": [],
      "id": "iikuWp7qYVXq"
    },
    {
      "cell_type": "code",
      "source": [
        "! chmod 600 ~/.kaggle/kaggle.json"
      ],
      "metadata": {
        "id": "VCs-NJ6AYcjF"
      },
      "execution_count": null,
      "outputs": [],
      "id": "VCs-NJ6AYcjF"
    },
    {
      "cell_type": "code",
      "source": [
        "!kaggle competitions download -c allstate-claims-severity"
      ],
      "metadata": {
        "colab": {
          "base_uri": "https://localhost:8080/"
        },
        "id": "PUZL3JMTaA5W",
        "outputId": "ca522318-d17e-420b-b2ef-9e74383fe46e"
      },
      "execution_count": null,
      "outputs": [
        {
          "output_type": "stream",
          "name": "stdout",
          "text": [
            "Downloading allstate-claims-severity.zip to /content\n",
            " 84% 41.0M/48.8M [00:00<00:00, 51.3MB/s]\n",
            "100% 48.8M/48.8M [00:00<00:00, 53.1MB/s]\n"
          ]
        }
      ],
      "id": "PUZL3JMTaA5W"
    },
    {
      "cell_type": "code",
      "source": [
        "!unzip allstate-claims-severity.zip\n"
      ],
      "metadata": {
        "colab": {
          "base_uri": "https://localhost:8080/"
        },
        "id": "10_XFL4EacYF",
        "outputId": "26c5e640-87e9-45a5-e7f9-26ab37a4038a"
      },
      "execution_count": null,
      "outputs": [
        {
          "output_type": "stream",
          "name": "stdout",
          "text": [
            "Archive:  allstate-claims-severity.zip\n",
            "  inflating: sample_submission.csv   \n",
            "  inflating: sample_submission.csv.zip  \n",
            "  inflating: test.csv                \n",
            "  inflating: test.csv.zip            \n",
            "  inflating: train.csv               \n",
            "  inflating: train.csv.zip           \n"
          ]
        }
      ],
      "id": "10_XFL4EacYF"
    },
    {
      "cell_type": "markdown",
      "source": [],
      "metadata": {
        "id": "d-Zc6tql63_L"
      },
      "id": "d-Zc6tql63_L"
    },
    {
      "cell_type": "markdown",
      "id": "e4b2901c",
      "metadata": {
        "id": "e4b2901c"
      },
      "source": [
        "## 2. Lectura y concatenación de los Dataset"
      ]
    },
    {
      "cell_type": "code",
      "execution_count": null,
      "id": "2d874af3",
      "metadata": {
        "id": "2d874af3"
      },
      "outputs": [],
      "source": [
        "#cargar los datos\n",
        "# Crear dataset \n",
        "\n",
        "train = pd.read_csv('train.csv')\n",
        "test = pd.read_csv('test.csv')"
      ]
    },
    {
      "cell_type": "code",
      "execution_count": null,
      "id": "42807b66",
      "metadata": {
        "colab": {
          "base_uri": "https://localhost:8080/",
          "height": 299
        },
        "id": "42807b66",
        "outputId": "89f3bcbe-a696-4cfe-fac5-cf0a821fd78a"
      },
      "outputs": [
        {
          "output_type": "execute_result",
          "data": {
            "text/plain": [
              "   id cat1 cat2 cat3 cat4 cat5 cat6 cat7 cat8 cat9  ...     cont6     cont7  \\\n",
              "0   1    A    B    A    B    A    A    A    A    B  ...  0.718367  0.335060   \n",
              "1   2    A    B    A    A    A    A    A    A    B  ...  0.438917  0.436585   \n",
              "2   5    A    B    A    A    B    A    A    A    B  ...  0.289648  0.315545   \n",
              "3  10    B    B    A    B    A    A    A    A    B  ...  0.440945  0.391128   \n",
              "4  11    A    B    A    B    A    A    A    A    B  ...  0.178193  0.247408   \n",
              "\n",
              "     cont8    cont9   cont10    cont11    cont12    cont13    cont14     loss  \n",
              "0  0.30260  0.67135  0.83510  0.569745  0.594646  0.822493  0.714843  2213.18  \n",
              "1  0.60087  0.35127  0.43919  0.338312  0.366307  0.611431  0.304496  1283.60  \n",
              "2  0.27320  0.26076  0.32446  0.381398  0.373424  0.195709  0.774425  3005.09  \n",
              "3  0.31796  0.32128  0.44467  0.327915  0.321570  0.605077  0.602642   939.85  \n",
              "4  0.24564  0.22089  0.21230  0.204687  0.202213  0.246011  0.432606  2763.85  \n",
              "\n",
              "[5 rows x 132 columns]"
            ],
            "text/html": [
              "\n",
              "  <div id=\"df-096993f9-6aa7-4185-bff3-8acbe10a3914\">\n",
              "    <div class=\"colab-df-container\">\n",
              "      <div>\n",
              "<style scoped>\n",
              "    .dataframe tbody tr th:only-of-type {\n",
              "        vertical-align: middle;\n",
              "    }\n",
              "\n",
              "    .dataframe tbody tr th {\n",
              "        vertical-align: top;\n",
              "    }\n",
              "\n",
              "    .dataframe thead th {\n",
              "        text-align: right;\n",
              "    }\n",
              "</style>\n",
              "<table border=\"1\" class=\"dataframe\">\n",
              "  <thead>\n",
              "    <tr style=\"text-align: right;\">\n",
              "      <th></th>\n",
              "      <th>id</th>\n",
              "      <th>cat1</th>\n",
              "      <th>cat2</th>\n",
              "      <th>cat3</th>\n",
              "      <th>cat4</th>\n",
              "      <th>cat5</th>\n",
              "      <th>cat6</th>\n",
              "      <th>cat7</th>\n",
              "      <th>cat8</th>\n",
              "      <th>cat9</th>\n",
              "      <th>...</th>\n",
              "      <th>cont6</th>\n",
              "      <th>cont7</th>\n",
              "      <th>cont8</th>\n",
              "      <th>cont9</th>\n",
              "      <th>cont10</th>\n",
              "      <th>cont11</th>\n",
              "      <th>cont12</th>\n",
              "      <th>cont13</th>\n",
              "      <th>cont14</th>\n",
              "      <th>loss</th>\n",
              "    </tr>\n",
              "  </thead>\n",
              "  <tbody>\n",
              "    <tr>\n",
              "      <th>0</th>\n",
              "      <td>1</td>\n",
              "      <td>A</td>\n",
              "      <td>B</td>\n",
              "      <td>A</td>\n",
              "      <td>B</td>\n",
              "      <td>A</td>\n",
              "      <td>A</td>\n",
              "      <td>A</td>\n",
              "      <td>A</td>\n",
              "      <td>B</td>\n",
              "      <td>...</td>\n",
              "      <td>0.718367</td>\n",
              "      <td>0.335060</td>\n",
              "      <td>0.30260</td>\n",
              "      <td>0.67135</td>\n",
              "      <td>0.83510</td>\n",
              "      <td>0.569745</td>\n",
              "      <td>0.594646</td>\n",
              "      <td>0.822493</td>\n",
              "      <td>0.714843</td>\n",
              "      <td>2213.18</td>\n",
              "    </tr>\n",
              "    <tr>\n",
              "      <th>1</th>\n",
              "      <td>2</td>\n",
              "      <td>A</td>\n",
              "      <td>B</td>\n",
              "      <td>A</td>\n",
              "      <td>A</td>\n",
              "      <td>A</td>\n",
              "      <td>A</td>\n",
              "      <td>A</td>\n",
              "      <td>A</td>\n",
              "      <td>B</td>\n",
              "      <td>...</td>\n",
              "      <td>0.438917</td>\n",
              "      <td>0.436585</td>\n",
              "      <td>0.60087</td>\n",
              "      <td>0.35127</td>\n",
              "      <td>0.43919</td>\n",
              "      <td>0.338312</td>\n",
              "      <td>0.366307</td>\n",
              "      <td>0.611431</td>\n",
              "      <td>0.304496</td>\n",
              "      <td>1283.60</td>\n",
              "    </tr>\n",
              "    <tr>\n",
              "      <th>2</th>\n",
              "      <td>5</td>\n",
              "      <td>A</td>\n",
              "      <td>B</td>\n",
              "      <td>A</td>\n",
              "      <td>A</td>\n",
              "      <td>B</td>\n",
              "      <td>A</td>\n",
              "      <td>A</td>\n",
              "      <td>A</td>\n",
              "      <td>B</td>\n",
              "      <td>...</td>\n",
              "      <td>0.289648</td>\n",
              "      <td>0.315545</td>\n",
              "      <td>0.27320</td>\n",
              "      <td>0.26076</td>\n",
              "      <td>0.32446</td>\n",
              "      <td>0.381398</td>\n",
              "      <td>0.373424</td>\n",
              "      <td>0.195709</td>\n",
              "      <td>0.774425</td>\n",
              "      <td>3005.09</td>\n",
              "    </tr>\n",
              "    <tr>\n",
              "      <th>3</th>\n",
              "      <td>10</td>\n",
              "      <td>B</td>\n",
              "      <td>B</td>\n",
              "      <td>A</td>\n",
              "      <td>B</td>\n",
              "      <td>A</td>\n",
              "      <td>A</td>\n",
              "      <td>A</td>\n",
              "      <td>A</td>\n",
              "      <td>B</td>\n",
              "      <td>...</td>\n",
              "      <td>0.440945</td>\n",
              "      <td>0.391128</td>\n",
              "      <td>0.31796</td>\n",
              "      <td>0.32128</td>\n",
              "      <td>0.44467</td>\n",
              "      <td>0.327915</td>\n",
              "      <td>0.321570</td>\n",
              "      <td>0.605077</td>\n",
              "      <td>0.602642</td>\n",
              "      <td>939.85</td>\n",
              "    </tr>\n",
              "    <tr>\n",
              "      <th>4</th>\n",
              "      <td>11</td>\n",
              "      <td>A</td>\n",
              "      <td>B</td>\n",
              "      <td>A</td>\n",
              "      <td>B</td>\n",
              "      <td>A</td>\n",
              "      <td>A</td>\n",
              "      <td>A</td>\n",
              "      <td>A</td>\n",
              "      <td>B</td>\n",
              "      <td>...</td>\n",
              "      <td>0.178193</td>\n",
              "      <td>0.247408</td>\n",
              "      <td>0.24564</td>\n",
              "      <td>0.22089</td>\n",
              "      <td>0.21230</td>\n",
              "      <td>0.204687</td>\n",
              "      <td>0.202213</td>\n",
              "      <td>0.246011</td>\n",
              "      <td>0.432606</td>\n",
              "      <td>2763.85</td>\n",
              "    </tr>\n",
              "  </tbody>\n",
              "</table>\n",
              "<p>5 rows × 132 columns</p>\n",
              "</div>\n",
              "      <button class=\"colab-df-convert\" onclick=\"convertToInteractive('df-096993f9-6aa7-4185-bff3-8acbe10a3914')\"\n",
              "              title=\"Convert this dataframe to an interactive table.\"\n",
              "              style=\"display:none;\">\n",
              "        \n",
              "  <svg xmlns=\"http://www.w3.org/2000/svg\" height=\"24px\"viewBox=\"0 0 24 24\"\n",
              "       width=\"24px\">\n",
              "    <path d=\"M0 0h24v24H0V0z\" fill=\"none\"/>\n",
              "    <path d=\"M18.56 5.44l.94 2.06.94-2.06 2.06-.94-2.06-.94-.94-2.06-.94 2.06-2.06.94zm-11 1L8.5 8.5l.94-2.06 2.06-.94-2.06-.94L8.5 2.5l-.94 2.06-2.06.94zm10 10l.94 2.06.94-2.06 2.06-.94-2.06-.94-.94-2.06-.94 2.06-2.06.94z\"/><path d=\"M17.41 7.96l-1.37-1.37c-.4-.4-.92-.59-1.43-.59-.52 0-1.04.2-1.43.59L10.3 9.45l-7.72 7.72c-.78.78-.78 2.05 0 2.83L4 21.41c.39.39.9.59 1.41.59.51 0 1.02-.2 1.41-.59l7.78-7.78 2.81-2.81c.8-.78.8-2.07 0-2.86zM5.41 20L4 18.59l7.72-7.72 1.47 1.35L5.41 20z\"/>\n",
              "  </svg>\n",
              "      </button>\n",
              "      \n",
              "  <style>\n",
              "    .colab-df-container {\n",
              "      display:flex;\n",
              "      flex-wrap:wrap;\n",
              "      gap: 12px;\n",
              "    }\n",
              "\n",
              "    .colab-df-convert {\n",
              "      background-color: #E8F0FE;\n",
              "      border: none;\n",
              "      border-radius: 50%;\n",
              "      cursor: pointer;\n",
              "      display: none;\n",
              "      fill: #1967D2;\n",
              "      height: 32px;\n",
              "      padding: 0 0 0 0;\n",
              "      width: 32px;\n",
              "    }\n",
              "\n",
              "    .colab-df-convert:hover {\n",
              "      background-color: #E2EBFA;\n",
              "      box-shadow: 0px 1px 2px rgba(60, 64, 67, 0.3), 0px 1px 3px 1px rgba(60, 64, 67, 0.15);\n",
              "      fill: #174EA6;\n",
              "    }\n",
              "\n",
              "    [theme=dark] .colab-df-convert {\n",
              "      background-color: #3B4455;\n",
              "      fill: #D2E3FC;\n",
              "    }\n",
              "\n",
              "    [theme=dark] .colab-df-convert:hover {\n",
              "      background-color: #434B5C;\n",
              "      box-shadow: 0px 1px 3px 1px rgba(0, 0, 0, 0.15);\n",
              "      filter: drop-shadow(0px 1px 2px rgba(0, 0, 0, 0.3));\n",
              "      fill: #FFFFFF;\n",
              "    }\n",
              "  </style>\n",
              "\n",
              "      <script>\n",
              "        const buttonEl =\n",
              "          document.querySelector('#df-096993f9-6aa7-4185-bff3-8acbe10a3914 button.colab-df-convert');\n",
              "        buttonEl.style.display =\n",
              "          google.colab.kernel.accessAllowed ? 'block' : 'none';\n",
              "\n",
              "        async function convertToInteractive(key) {\n",
              "          const element = document.querySelector('#df-096993f9-6aa7-4185-bff3-8acbe10a3914');\n",
              "          const dataTable =\n",
              "            await google.colab.kernel.invokeFunction('convertToInteractive',\n",
              "                                                     [key], {});\n",
              "          if (!dataTable) return;\n",
              "\n",
              "          const docLinkHtml = 'Like what you see? Visit the ' +\n",
              "            '<a target=\"_blank\" href=https://colab.research.google.com/notebooks/data_table.ipynb>data table notebook</a>'\n",
              "            + ' to learn more about interactive tables.';\n",
              "          element.innerHTML = '';\n",
              "          dataTable['output_type'] = 'display_data';\n",
              "          await google.colab.output.renderOutput(dataTable, element);\n",
              "          const docLink = document.createElement('div');\n",
              "          docLink.innerHTML = docLinkHtml;\n",
              "          element.appendChild(docLink);\n",
              "        }\n",
              "      </script>\n",
              "    </div>\n",
              "  </div>\n",
              "  "
            ]
          },
          "metadata": {},
          "execution_count": 10
        }
      ],
      "source": [
        "train.head()"
      ]
    },
    {
      "cell_type": "code",
      "execution_count": null,
      "id": "faaf28a5",
      "metadata": {
        "colab": {
          "base_uri": "https://localhost:8080/"
        },
        "id": "faaf28a5",
        "outputId": "fc36c787-a128-4c34-c811-d93c11366701"
      },
      "outputs": [
        {
          "output_type": "stream",
          "name": "stdout",
          "text": [
            "<class 'pandas.core.frame.DataFrame'>\n",
            "RangeIndex: 188318 entries, 0 to 188317\n",
            "Columns: 132 entries, id to loss\n",
            "dtypes: float64(15), int64(1), object(116)\n",
            "memory usage: 189.7+ MB\n"
          ]
        }
      ],
      "source": [
        "train.info()"
      ]
    },
    {
      "cell_type": "markdown",
      "source": [
        "Se observa que la base de datos de entrenamiento consta de 188,318 observaciones y 131 variables que incluyen 72 variables categóricas binarias, 43 variables no binarias, 14 variables continuas y la variable de resultado, \"Loss\""
      ],
      "metadata": {
        "id": "bviXl9L581CG"
      },
      "id": "bviXl9L581CG"
    },
    {
      "cell_type": "code",
      "source": [
        "test.head()"
      ],
      "metadata": {
        "colab": {
          "base_uri": "https://localhost:8080/",
          "height": 299
        },
        "id": "UjfSryto80x4",
        "outputId": "220b15e8-109f-4ab6-c176-2769a7026b24"
      },
      "id": "UjfSryto80x4",
      "execution_count": null,
      "outputs": [
        {
          "output_type": "execute_result",
          "data": {
            "text/plain": [
              "   id cat1 cat2 cat3 cat4 cat5 cat6 cat7 cat8 cat9  ...     cont5     cont6  \\\n",
              "0   4    A    B    A    A    A    A    A    A    B  ...  0.281143  0.466591   \n",
              "1   6    A    B    A    B    A    A    A    A    B  ...  0.836443  0.482425   \n",
              "2   9    A    B    A    B    B    A    B    A    B  ...  0.718531  0.212308   \n",
              "3  12    A    A    A    A    B    A    A    A    A  ...  0.397069  0.369930   \n",
              "4  15    B    A    A    A    A    B    A    A    A  ...  0.302678  0.398862   \n",
              "\n",
              "      cont7    cont8    cont9   cont10    cont11    cont12    cont13    cont14  \n",
              "0  0.317681  0.61229  0.34365  0.38016  0.377724  0.369858  0.704052  0.392562  \n",
              "1  0.443760  0.71330  0.51890  0.60401  0.689039  0.675759  0.453468  0.208045  \n",
              "2  0.325779  0.29758  0.34365  0.30529  0.245410  0.241676  0.258586  0.297232  \n",
              "3  0.342355  0.40028  0.33237  0.31480  0.348867  0.341872  0.592264  0.555955  \n",
              "4  0.391833  0.23688  0.43731  0.50556  0.359572  0.352251  0.301535  0.825823  \n",
              "\n",
              "[5 rows x 131 columns]"
            ],
            "text/html": [
              "\n",
              "  <div id=\"df-3c4fb4fc-4555-4747-8177-041cd7a7b231\">\n",
              "    <div class=\"colab-df-container\">\n",
              "      <div>\n",
              "<style scoped>\n",
              "    .dataframe tbody tr th:only-of-type {\n",
              "        vertical-align: middle;\n",
              "    }\n",
              "\n",
              "    .dataframe tbody tr th {\n",
              "        vertical-align: top;\n",
              "    }\n",
              "\n",
              "    .dataframe thead th {\n",
              "        text-align: right;\n",
              "    }\n",
              "</style>\n",
              "<table border=\"1\" class=\"dataframe\">\n",
              "  <thead>\n",
              "    <tr style=\"text-align: right;\">\n",
              "      <th></th>\n",
              "      <th>id</th>\n",
              "      <th>cat1</th>\n",
              "      <th>cat2</th>\n",
              "      <th>cat3</th>\n",
              "      <th>cat4</th>\n",
              "      <th>cat5</th>\n",
              "      <th>cat6</th>\n",
              "      <th>cat7</th>\n",
              "      <th>cat8</th>\n",
              "      <th>cat9</th>\n",
              "      <th>...</th>\n",
              "      <th>cont5</th>\n",
              "      <th>cont6</th>\n",
              "      <th>cont7</th>\n",
              "      <th>cont8</th>\n",
              "      <th>cont9</th>\n",
              "      <th>cont10</th>\n",
              "      <th>cont11</th>\n",
              "      <th>cont12</th>\n",
              "      <th>cont13</th>\n",
              "      <th>cont14</th>\n",
              "    </tr>\n",
              "  </thead>\n",
              "  <tbody>\n",
              "    <tr>\n",
              "      <th>0</th>\n",
              "      <td>4</td>\n",
              "      <td>A</td>\n",
              "      <td>B</td>\n",
              "      <td>A</td>\n",
              "      <td>A</td>\n",
              "      <td>A</td>\n",
              "      <td>A</td>\n",
              "      <td>A</td>\n",
              "      <td>A</td>\n",
              "      <td>B</td>\n",
              "      <td>...</td>\n",
              "      <td>0.281143</td>\n",
              "      <td>0.466591</td>\n",
              "      <td>0.317681</td>\n",
              "      <td>0.61229</td>\n",
              "      <td>0.34365</td>\n",
              "      <td>0.38016</td>\n",
              "      <td>0.377724</td>\n",
              "      <td>0.369858</td>\n",
              "      <td>0.704052</td>\n",
              "      <td>0.392562</td>\n",
              "    </tr>\n",
              "    <tr>\n",
              "      <th>1</th>\n",
              "      <td>6</td>\n",
              "      <td>A</td>\n",
              "      <td>B</td>\n",
              "      <td>A</td>\n",
              "      <td>B</td>\n",
              "      <td>A</td>\n",
              "      <td>A</td>\n",
              "      <td>A</td>\n",
              "      <td>A</td>\n",
              "      <td>B</td>\n",
              "      <td>...</td>\n",
              "      <td>0.836443</td>\n",
              "      <td>0.482425</td>\n",
              "      <td>0.443760</td>\n",
              "      <td>0.71330</td>\n",
              "      <td>0.51890</td>\n",
              "      <td>0.60401</td>\n",
              "      <td>0.689039</td>\n",
              "      <td>0.675759</td>\n",
              "      <td>0.453468</td>\n",
              "      <td>0.208045</td>\n",
              "    </tr>\n",
              "    <tr>\n",
              "      <th>2</th>\n",
              "      <td>9</td>\n",
              "      <td>A</td>\n",
              "      <td>B</td>\n",
              "      <td>A</td>\n",
              "      <td>B</td>\n",
              "      <td>B</td>\n",
              "      <td>A</td>\n",
              "      <td>B</td>\n",
              "      <td>A</td>\n",
              "      <td>B</td>\n",
              "      <td>...</td>\n",
              "      <td>0.718531</td>\n",
              "      <td>0.212308</td>\n",
              "      <td>0.325779</td>\n",
              "      <td>0.29758</td>\n",
              "      <td>0.34365</td>\n",
              "      <td>0.30529</td>\n",
              "      <td>0.245410</td>\n",
              "      <td>0.241676</td>\n",
              "      <td>0.258586</td>\n",
              "      <td>0.297232</td>\n",
              "    </tr>\n",
              "    <tr>\n",
              "      <th>3</th>\n",
              "      <td>12</td>\n",
              "      <td>A</td>\n",
              "      <td>A</td>\n",
              "      <td>A</td>\n",
              "      <td>A</td>\n",
              "      <td>B</td>\n",
              "      <td>A</td>\n",
              "      <td>A</td>\n",
              "      <td>A</td>\n",
              "      <td>A</td>\n",
              "      <td>...</td>\n",
              "      <td>0.397069</td>\n",
              "      <td>0.369930</td>\n",
              "      <td>0.342355</td>\n",
              "      <td>0.40028</td>\n",
              "      <td>0.33237</td>\n",
              "      <td>0.31480</td>\n",
              "      <td>0.348867</td>\n",
              "      <td>0.341872</td>\n",
              "      <td>0.592264</td>\n",
              "      <td>0.555955</td>\n",
              "    </tr>\n",
              "    <tr>\n",
              "      <th>4</th>\n",
              "      <td>15</td>\n",
              "      <td>B</td>\n",
              "      <td>A</td>\n",
              "      <td>A</td>\n",
              "      <td>A</td>\n",
              "      <td>A</td>\n",
              "      <td>B</td>\n",
              "      <td>A</td>\n",
              "      <td>A</td>\n",
              "      <td>A</td>\n",
              "      <td>...</td>\n",
              "      <td>0.302678</td>\n",
              "      <td>0.398862</td>\n",
              "      <td>0.391833</td>\n",
              "      <td>0.23688</td>\n",
              "      <td>0.43731</td>\n",
              "      <td>0.50556</td>\n",
              "      <td>0.359572</td>\n",
              "      <td>0.352251</td>\n",
              "      <td>0.301535</td>\n",
              "      <td>0.825823</td>\n",
              "    </tr>\n",
              "  </tbody>\n",
              "</table>\n",
              "<p>5 rows × 131 columns</p>\n",
              "</div>\n",
              "      <button class=\"colab-df-convert\" onclick=\"convertToInteractive('df-3c4fb4fc-4555-4747-8177-041cd7a7b231')\"\n",
              "              title=\"Convert this dataframe to an interactive table.\"\n",
              "              style=\"display:none;\">\n",
              "        \n",
              "  <svg xmlns=\"http://www.w3.org/2000/svg\" height=\"24px\"viewBox=\"0 0 24 24\"\n",
              "       width=\"24px\">\n",
              "    <path d=\"M0 0h24v24H0V0z\" fill=\"none\"/>\n",
              "    <path d=\"M18.56 5.44l.94 2.06.94-2.06 2.06-.94-2.06-.94-.94-2.06-.94 2.06-2.06.94zm-11 1L8.5 8.5l.94-2.06 2.06-.94-2.06-.94L8.5 2.5l-.94 2.06-2.06.94zm10 10l.94 2.06.94-2.06 2.06-.94-2.06-.94-.94-2.06-.94 2.06-2.06.94z\"/><path d=\"M17.41 7.96l-1.37-1.37c-.4-.4-.92-.59-1.43-.59-.52 0-1.04.2-1.43.59L10.3 9.45l-7.72 7.72c-.78.78-.78 2.05 0 2.83L4 21.41c.39.39.9.59 1.41.59.51 0 1.02-.2 1.41-.59l7.78-7.78 2.81-2.81c.8-.78.8-2.07 0-2.86zM5.41 20L4 18.59l7.72-7.72 1.47 1.35L5.41 20z\"/>\n",
              "  </svg>\n",
              "      </button>\n",
              "      \n",
              "  <style>\n",
              "    .colab-df-container {\n",
              "      display:flex;\n",
              "      flex-wrap:wrap;\n",
              "      gap: 12px;\n",
              "    }\n",
              "\n",
              "    .colab-df-convert {\n",
              "      background-color: #E8F0FE;\n",
              "      border: none;\n",
              "      border-radius: 50%;\n",
              "      cursor: pointer;\n",
              "      display: none;\n",
              "      fill: #1967D2;\n",
              "      height: 32px;\n",
              "      padding: 0 0 0 0;\n",
              "      width: 32px;\n",
              "    }\n",
              "\n",
              "    .colab-df-convert:hover {\n",
              "      background-color: #E2EBFA;\n",
              "      box-shadow: 0px 1px 2px rgba(60, 64, 67, 0.3), 0px 1px 3px 1px rgba(60, 64, 67, 0.15);\n",
              "      fill: #174EA6;\n",
              "    }\n",
              "\n",
              "    [theme=dark] .colab-df-convert {\n",
              "      background-color: #3B4455;\n",
              "      fill: #D2E3FC;\n",
              "    }\n",
              "\n",
              "    [theme=dark] .colab-df-convert:hover {\n",
              "      background-color: #434B5C;\n",
              "      box-shadow: 0px 1px 3px 1px rgba(0, 0, 0, 0.15);\n",
              "      filter: drop-shadow(0px 1px 2px rgba(0, 0, 0, 0.3));\n",
              "      fill: #FFFFFF;\n",
              "    }\n",
              "  </style>\n",
              "\n",
              "      <script>\n",
              "        const buttonEl =\n",
              "          document.querySelector('#df-3c4fb4fc-4555-4747-8177-041cd7a7b231 button.colab-df-convert');\n",
              "        buttonEl.style.display =\n",
              "          google.colab.kernel.accessAllowed ? 'block' : 'none';\n",
              "\n",
              "        async function convertToInteractive(key) {\n",
              "          const element = document.querySelector('#df-3c4fb4fc-4555-4747-8177-041cd7a7b231');\n",
              "          const dataTable =\n",
              "            await google.colab.kernel.invokeFunction('convertToInteractive',\n",
              "                                                     [key], {});\n",
              "          if (!dataTable) return;\n",
              "\n",
              "          const docLinkHtml = 'Like what you see? Visit the ' +\n",
              "            '<a target=\"_blank\" href=https://colab.research.google.com/notebooks/data_table.ipynb>data table notebook</a>'\n",
              "            + ' to learn more about interactive tables.';\n",
              "          element.innerHTML = '';\n",
              "          dataTable['output_type'] = 'display_data';\n",
              "          await google.colab.output.renderOutput(dataTable, element);\n",
              "          const docLink = document.createElement('div');\n",
              "          docLink.innerHTML = docLinkHtml;\n",
              "          element.appendChild(docLink);\n",
              "        }\n",
              "      </script>\n",
              "    </div>\n",
              "  </div>\n",
              "  "
            ]
          },
          "metadata": {},
          "execution_count": 12
        }
      ]
    },
    {
      "cell_type": "code",
      "execution_count": null,
      "id": "c8a50406",
      "metadata": {
        "colab": {
          "base_uri": "https://localhost:8080/"
        },
        "id": "c8a50406",
        "outputId": "c8c9cc3a-b322-436f-e5c9-c6a378b27f8a"
      },
      "outputs": [
        {
          "output_type": "stream",
          "name": "stdout",
          "text": [
            "<class 'pandas.core.frame.DataFrame'>\n",
            "RangeIndex: 125546 entries, 0 to 125545\n",
            "Columns: 131 entries, id to cont14\n",
            "dtypes: float64(14), int64(1), object(116)\n",
            "memory usage: 125.5+ MB\n"
          ]
        }
      ],
      "source": [
        "test.info()"
      ]
    },
    {
      "cell_type": "code",
      "source": [
        "\"\"\"\n",
        "Checking the columns are identical or not in Train and Test data\n",
        "\"\"\"\n",
        "\n",
        "train_features = list(train.columns.values)\n",
        "train_features.pop() #pop out the loss column\n",
        "test_features = list(test.columns.values)\n",
        "print('Is train and test datasets are identical? \\n' + str(train_features == test_features))"
      ],
      "metadata": {
        "colab": {
          "base_uri": "https://localhost:8080/"
        },
        "id": "ceziAbazAhYX",
        "outputId": "afc9dfc9-d096-4c59-cff1-933749dcb282"
      },
      "id": "ceziAbazAhYX",
      "execution_count": null,
      "outputs": [
        {
          "output_type": "stream",
          "name": "stdout",
          "text": [
            "Is train and test datasets are identical? \n",
            "True\n"
          ]
        }
      ]
    },
    {
      "cell_type": "markdown",
      "source": [
        "## 3. Carga de librerias"
      ],
      "metadata": {
        "id": "B1Jkvgcn88Vr"
      },
      "id": "B1Jkvgcn88Vr"
    },
    {
      "cell_type": "code",
      "source": [
        "import warnings\n",
        "warnings.filterwarnings(\"ignore\")\n",
        "import pandas as pd\n",
        "%matplotlib inline\n",
        "import matplotlib.pyplot as plt\n",
        "import seaborn as sns\n",
        "import numpy as np\n",
        "from sklearn.preprocessing import StandardScaler\n",
        "from sklearn.model_selection import KFold\n",
        "from xgboost import XGBRegressor\n",
        "from sklearn.model_selection import RandomizedSearchCV,GridSearchCV\n",
        "from sklearn.neighbors import KNeighborsClassifier\n",
        "from sklearn.model_selection import train_test_split\n",
        "from sklearn.linear_model import LinearRegression,Ridge,Lasso,ElasticNet\n",
        "from sklearn.neighbors import KNeighborsRegressor\n",
        "from sklearn.ensemble import RandomForestRegressor,BaggingRegressor,ExtraTreesRegressor,AdaBoostRegressor,GradientBoostingRegressor\n",
        "from sklearn.metrics import mean_absolute_error\n",
        "from sklearn.tree import DecisionTreeRegressor\n",
        "from sklearn.svm import SVR\n",
        "from scipy.stats import skew,boxcox"
      ],
      "metadata": {
        "id": "-WLkNyVg_GXk"
      },
      "id": "-WLkNyVg_GXk",
      "execution_count": null,
      "outputs": []
    },
    {
      "cell_type": "code",
      "source": [
        "r,c = train.shape"
      ],
      "metadata": {
        "id": "lNjw9TaVEMzd"
      },
      "id": "lNjw9TaVEMzd",
      "execution_count": null,
      "outputs": []
    },
    {
      "cell_type": "code",
      "source": [
        "y_ = np.log1p(train['loss'])\n",
        "train.drop(['id','loss'], axis=1, inplace=True)\n",
        "test.drop(['id'], axis=1, inplace=True)\n",
        "\n",
        "Train_Test = pd.concat((train, test)).reset_index(drop=True)\n",
        "\n",
        "Train_Test.head()"
      ],
      "metadata": {
        "colab": {
          "base_uri": "https://localhost:8080/",
          "height": 299
        },
        "id": "SHGoZfM5C-y4",
        "outputId": "bc463190-e25b-42fd-af34-89c937bb7483"
      },
      "id": "SHGoZfM5C-y4",
      "execution_count": null,
      "outputs": [
        {
          "output_type": "execute_result",
          "data": {
            "text/plain": [
              "  cat1 cat2 cat3 cat4 cat5 cat6 cat7 cat8 cat9 cat10  ...     cont5     cont6  \\\n",
              "0    A    B    A    B    A    A    A    A    B     A  ...  0.310061  0.718367   \n",
              "1    A    B    A    A    A    A    A    A    B     B  ...  0.885834  0.438917   \n",
              "2    A    B    A    A    B    A    A    A    B     B  ...  0.397069  0.289648   \n",
              "3    B    B    A    B    A    A    A    A    B     A  ...  0.422268  0.440945   \n",
              "4    A    B    A    B    A    A    A    A    B     B  ...  0.704268  0.178193   \n",
              "\n",
              "      cont7    cont8    cont9   cont10    cont11    cont12    cont13    cont14  \n",
              "0  0.335060  0.30260  0.67135  0.83510  0.569745  0.594646  0.822493  0.714843  \n",
              "1  0.436585  0.60087  0.35127  0.43919  0.338312  0.366307  0.611431  0.304496  \n",
              "2  0.315545  0.27320  0.26076  0.32446  0.381398  0.373424  0.195709  0.774425  \n",
              "3  0.391128  0.31796  0.32128  0.44467  0.327915  0.321570  0.605077  0.602642  \n",
              "4  0.247408  0.24564  0.22089  0.21230  0.204687  0.202213  0.246011  0.432606  \n",
              "\n",
              "[5 rows x 130 columns]"
            ],
            "text/html": [
              "\n",
              "  <div id=\"df-7ef3316e-2ddc-436d-aaea-cb4a47f6b4c3\">\n",
              "    <div class=\"colab-df-container\">\n",
              "      <div>\n",
              "<style scoped>\n",
              "    .dataframe tbody tr th:only-of-type {\n",
              "        vertical-align: middle;\n",
              "    }\n",
              "\n",
              "    .dataframe tbody tr th {\n",
              "        vertical-align: top;\n",
              "    }\n",
              "\n",
              "    .dataframe thead th {\n",
              "        text-align: right;\n",
              "    }\n",
              "</style>\n",
              "<table border=\"1\" class=\"dataframe\">\n",
              "  <thead>\n",
              "    <tr style=\"text-align: right;\">\n",
              "      <th></th>\n",
              "      <th>cat1</th>\n",
              "      <th>cat2</th>\n",
              "      <th>cat3</th>\n",
              "      <th>cat4</th>\n",
              "      <th>cat5</th>\n",
              "      <th>cat6</th>\n",
              "      <th>cat7</th>\n",
              "      <th>cat8</th>\n",
              "      <th>cat9</th>\n",
              "      <th>cat10</th>\n",
              "      <th>...</th>\n",
              "      <th>cont5</th>\n",
              "      <th>cont6</th>\n",
              "      <th>cont7</th>\n",
              "      <th>cont8</th>\n",
              "      <th>cont9</th>\n",
              "      <th>cont10</th>\n",
              "      <th>cont11</th>\n",
              "      <th>cont12</th>\n",
              "      <th>cont13</th>\n",
              "      <th>cont14</th>\n",
              "    </tr>\n",
              "  </thead>\n",
              "  <tbody>\n",
              "    <tr>\n",
              "      <th>0</th>\n",
              "      <td>A</td>\n",
              "      <td>B</td>\n",
              "      <td>A</td>\n",
              "      <td>B</td>\n",
              "      <td>A</td>\n",
              "      <td>A</td>\n",
              "      <td>A</td>\n",
              "      <td>A</td>\n",
              "      <td>B</td>\n",
              "      <td>A</td>\n",
              "      <td>...</td>\n",
              "      <td>0.310061</td>\n",
              "      <td>0.718367</td>\n",
              "      <td>0.335060</td>\n",
              "      <td>0.30260</td>\n",
              "      <td>0.67135</td>\n",
              "      <td>0.83510</td>\n",
              "      <td>0.569745</td>\n",
              "      <td>0.594646</td>\n",
              "      <td>0.822493</td>\n",
              "      <td>0.714843</td>\n",
              "    </tr>\n",
              "    <tr>\n",
              "      <th>1</th>\n",
              "      <td>A</td>\n",
              "      <td>B</td>\n",
              "      <td>A</td>\n",
              "      <td>A</td>\n",
              "      <td>A</td>\n",
              "      <td>A</td>\n",
              "      <td>A</td>\n",
              "      <td>A</td>\n",
              "      <td>B</td>\n",
              "      <td>B</td>\n",
              "      <td>...</td>\n",
              "      <td>0.885834</td>\n",
              "      <td>0.438917</td>\n",
              "      <td>0.436585</td>\n",
              "      <td>0.60087</td>\n",
              "      <td>0.35127</td>\n",
              "      <td>0.43919</td>\n",
              "      <td>0.338312</td>\n",
              "      <td>0.366307</td>\n",
              "      <td>0.611431</td>\n",
              "      <td>0.304496</td>\n",
              "    </tr>\n",
              "    <tr>\n",
              "      <th>2</th>\n",
              "      <td>A</td>\n",
              "      <td>B</td>\n",
              "      <td>A</td>\n",
              "      <td>A</td>\n",
              "      <td>B</td>\n",
              "      <td>A</td>\n",
              "      <td>A</td>\n",
              "      <td>A</td>\n",
              "      <td>B</td>\n",
              "      <td>B</td>\n",
              "      <td>...</td>\n",
              "      <td>0.397069</td>\n",
              "      <td>0.289648</td>\n",
              "      <td>0.315545</td>\n",
              "      <td>0.27320</td>\n",
              "      <td>0.26076</td>\n",
              "      <td>0.32446</td>\n",
              "      <td>0.381398</td>\n",
              "      <td>0.373424</td>\n",
              "      <td>0.195709</td>\n",
              "      <td>0.774425</td>\n",
              "    </tr>\n",
              "    <tr>\n",
              "      <th>3</th>\n",
              "      <td>B</td>\n",
              "      <td>B</td>\n",
              "      <td>A</td>\n",
              "      <td>B</td>\n",
              "      <td>A</td>\n",
              "      <td>A</td>\n",
              "      <td>A</td>\n",
              "      <td>A</td>\n",
              "      <td>B</td>\n",
              "      <td>A</td>\n",
              "      <td>...</td>\n",
              "      <td>0.422268</td>\n",
              "      <td>0.440945</td>\n",
              "      <td>0.391128</td>\n",
              "      <td>0.31796</td>\n",
              "      <td>0.32128</td>\n",
              "      <td>0.44467</td>\n",
              "      <td>0.327915</td>\n",
              "      <td>0.321570</td>\n",
              "      <td>0.605077</td>\n",
              "      <td>0.602642</td>\n",
              "    </tr>\n",
              "    <tr>\n",
              "      <th>4</th>\n",
              "      <td>A</td>\n",
              "      <td>B</td>\n",
              "      <td>A</td>\n",
              "      <td>B</td>\n",
              "      <td>A</td>\n",
              "      <td>A</td>\n",
              "      <td>A</td>\n",
              "      <td>A</td>\n",
              "      <td>B</td>\n",
              "      <td>B</td>\n",
              "      <td>...</td>\n",
              "      <td>0.704268</td>\n",
              "      <td>0.178193</td>\n",
              "      <td>0.247408</td>\n",
              "      <td>0.24564</td>\n",
              "      <td>0.22089</td>\n",
              "      <td>0.21230</td>\n",
              "      <td>0.204687</td>\n",
              "      <td>0.202213</td>\n",
              "      <td>0.246011</td>\n",
              "      <td>0.432606</td>\n",
              "    </tr>\n",
              "  </tbody>\n",
              "</table>\n",
              "<p>5 rows × 130 columns</p>\n",
              "</div>\n",
              "      <button class=\"colab-df-convert\" onclick=\"convertToInteractive('df-7ef3316e-2ddc-436d-aaea-cb4a47f6b4c3')\"\n",
              "              title=\"Convert this dataframe to an interactive table.\"\n",
              "              style=\"display:none;\">\n",
              "        \n",
              "  <svg xmlns=\"http://www.w3.org/2000/svg\" height=\"24px\"viewBox=\"0 0 24 24\"\n",
              "       width=\"24px\">\n",
              "    <path d=\"M0 0h24v24H0V0z\" fill=\"none\"/>\n",
              "    <path d=\"M18.56 5.44l.94 2.06.94-2.06 2.06-.94-2.06-.94-.94-2.06-.94 2.06-2.06.94zm-11 1L8.5 8.5l.94-2.06 2.06-.94-2.06-.94L8.5 2.5l-.94 2.06-2.06.94zm10 10l.94 2.06.94-2.06 2.06-.94-2.06-.94-.94-2.06-.94 2.06-2.06.94z\"/><path d=\"M17.41 7.96l-1.37-1.37c-.4-.4-.92-.59-1.43-.59-.52 0-1.04.2-1.43.59L10.3 9.45l-7.72 7.72c-.78.78-.78 2.05 0 2.83L4 21.41c.39.39.9.59 1.41.59.51 0 1.02-.2 1.41-.59l7.78-7.78 2.81-2.81c.8-.78.8-2.07 0-2.86zM5.41 20L4 18.59l7.72-7.72 1.47 1.35L5.41 20z\"/>\n",
              "  </svg>\n",
              "      </button>\n",
              "      \n",
              "  <style>\n",
              "    .colab-df-container {\n",
              "      display:flex;\n",
              "      flex-wrap:wrap;\n",
              "      gap: 12px;\n",
              "    }\n",
              "\n",
              "    .colab-df-convert {\n",
              "      background-color: #E8F0FE;\n",
              "      border: none;\n",
              "      border-radius: 50%;\n",
              "      cursor: pointer;\n",
              "      display: none;\n",
              "      fill: #1967D2;\n",
              "      height: 32px;\n",
              "      padding: 0 0 0 0;\n",
              "      width: 32px;\n",
              "    }\n",
              "\n",
              "    .colab-df-convert:hover {\n",
              "      background-color: #E2EBFA;\n",
              "      box-shadow: 0px 1px 2px rgba(60, 64, 67, 0.3), 0px 1px 3px 1px rgba(60, 64, 67, 0.15);\n",
              "      fill: #174EA6;\n",
              "    }\n",
              "\n",
              "    [theme=dark] .colab-df-convert {\n",
              "      background-color: #3B4455;\n",
              "      fill: #D2E3FC;\n",
              "    }\n",
              "\n",
              "    [theme=dark] .colab-df-convert:hover {\n",
              "      background-color: #434B5C;\n",
              "      box-shadow: 0px 1px 3px 1px rgba(0, 0, 0, 0.15);\n",
              "      filter: drop-shadow(0px 1px 2px rgba(0, 0, 0, 0.3));\n",
              "      fill: #FFFFFF;\n",
              "    }\n",
              "  </style>\n",
              "\n",
              "      <script>\n",
              "        const buttonEl =\n",
              "          document.querySelector('#df-7ef3316e-2ddc-436d-aaea-cb4a47f6b4c3 button.colab-df-convert');\n",
              "        buttonEl.style.display =\n",
              "          google.colab.kernel.accessAllowed ? 'block' : 'none';\n",
              "\n",
              "        async function convertToInteractive(key) {\n",
              "          const element = document.querySelector('#df-7ef3316e-2ddc-436d-aaea-cb4a47f6b4c3');\n",
              "          const dataTable =\n",
              "            await google.colab.kernel.invokeFunction('convertToInteractive',\n",
              "                                                     [key], {});\n",
              "          if (!dataTable) return;\n",
              "\n",
              "          const docLinkHtml = 'Like what you see? Visit the ' +\n",
              "            '<a target=\"_blank\" href=https://colab.research.google.com/notebooks/data_table.ipynb>data table notebook</a>'\n",
              "            + ' to learn more about interactive tables.';\n",
              "          element.innerHTML = '';\n",
              "          dataTable['output_type'] = 'display_data';\n",
              "          await google.colab.output.renderOutput(dataTable, element);\n",
              "          const docLink = document.createElement('div');\n",
              "          docLink.innerHTML = docLinkHtml;\n",
              "          element.appendChild(docLink);\n",
              "        }\n",
              "      </script>\n",
              "    </div>\n",
              "  </div>\n",
              "  "
            ]
          },
          "metadata": {},
          "execution_count": 35
        }
      ]
    },
    {
      "cell_type": "code",
      "source": [],
      "metadata": {
        "id": "OKDRv0XLgm5r"
      },
      "id": "OKDRv0XLgm5r",
      "execution_count": null,
      "outputs": []
    },
    {
      "cell_type": "markdown",
      "source": [
        "#Encoder"
      ],
      "metadata": {
        "id": "kDEVqrkNKs_C"
      },
      "id": "kDEVqrkNKs_C"
    },
    {
      "cell_type": "code",
      "source": [
        "from sklearn import preprocessing\n",
        "le = preprocessing.LabelEncoder()"
      ],
      "metadata": {
        "id": "SXKUkRTSDLKn"
      },
      "id": "SXKUkRTSDLKn",
      "execution_count": null,
      "outputs": []
    },
    {
      "cell_type": "code",
      "source": [
        "categorical_ = [feature for feature in Train_Test.columns if 'cat' in feature]\n",
        "continuous_ = [feature for feature in Train_Test.columns if 'cont' in feature]\n",
        "\n",
        "#cat_feature = [n for n in joined.columns if n.startswith('cat')]    \n",
        "#cont_feature = [n for n in joined.columns if n.startswith('cont')]"
      ],
      "metadata": {
        "id": "zcdz20rgDNRU"
      },
      "id": "zcdz20rgDNRU",
      "execution_count": null,
      "outputs": []
    },
    {
      "cell_type": "code",
      "source": [
        "for feature in categorical_: Train_Test[feature] = le.fit_transform(Train_Test[feature])"
      ],
      "metadata": {
        "id": "gV_wIXhQDWJH"
      },
      "id": "gV_wIXhQDWJH",
      "execution_count": null,
      "outputs": []
    },
    {
      "cell_type": "code",
      "source": [
        "from scipy.stats import skew,boxcox"
      ],
      "metadata": {
        "id": "RpMqwLDaDYnc"
      },
      "id": "RpMqwLDaDYnc",
      "execution_count": null,
      "outputs": []
    },
    {
      "cell_type": "code",
      "source": [
        "skewed_box = Train_Test.loc[:,\"cont1\":\"cont14\"].apply(lambda x: skew(x))\n",
        "skewed_box"
      ],
      "metadata": {
        "colab": {
          "base_uri": "https://localhost:8080/"
        },
        "id": "VUE9gtasDaOj",
        "outputId": "143d9965-69a3-4f9b-f9de-195eba906b14"
      },
      "id": "VUE9gtasDaOj",
      "execution_count": null,
      "outputs": [
        {
          "output_type": "execute_result",
          "data": {
            "text/plain": [
              "cont1     0.513205\n",
              "cont2    -0.311146\n",
              "cont3    -0.007023\n",
              "cont4     0.417559\n",
              "cont5     0.679610\n",
              "cont6     0.458413\n",
              "cont7     0.825889\n",
              "cont8     0.673237\n",
              "cont9     1.067247\n",
              "cont10    0.352116\n",
              "cont11    0.281139\n",
              "cont12    0.291997\n",
              "cont13    0.376138\n",
              "cont14    0.250673\n",
              "dtype: float64"
            ]
          },
          "metadata": {},
          "execution_count": 41
        }
      ]
    },
    {
      "cell_type": "code",
      "source": [
        "Train_Test[\"cont1\"], lam = boxcox(Train_Test[\"cont1\"] + 1)\n",
        "Train_Test[\"cont2\"], lam = boxcox(Train_Test[\"cont2\"] + 1)  \n",
        "Train_Test[\"cont4\"], lam = boxcox(Train_Test[\"cont4\"] + 1)\n",
        "Train_Test[\"cont5\"], lam = boxcox(Train_Test[\"cont5\"] + 1)\n",
        "Train_Test[\"cont6\"], lam = boxcox(Train_Test[\"cont6\"] + 1)\n",
        "Train_Test[\"cont7\"], lam = boxcox(Train_Test[\"cont7\"] + 1)\n",
        "Train_Test[\"cont8\"], lam = boxcox(Train_Test[\"cont8\"] + 1)\n",
        "Train_Test[\"cont9\"], lam = boxcox(Train_Test[\"cont9\"] + 1)\n",
        "Train_Test[\"cont10\"], lam = boxcox(Train_Test[\"cont10\"] + 1)\n",
        "Train_Test[\"cont11\"], lam = boxcox(Train_Test[\"cont11\"] + 1)\n",
        "Train_Test[\"cont12\"], lam = boxcox(Train_Test[\"cont12\"] + 1)\n",
        "Train_Test[\"cont13\"], lam = boxcox(Train_Test[\"cont13\"] + 1)"
      ],
      "metadata": {
        "id": "XYkmMdDQEsOp"
      },
      "id": "XYkmMdDQEsOp",
      "execution_count": null,
      "outputs": []
    },
    {
      "cell_type": "code",
      "source": [
        "train = Train_Test.iloc[:r, :]\n",
        "test = Train_Test.iloc[r:, :]"
      ],
      "metadata": {
        "id": "_TPA2Ex7DdFh"
      },
      "id": "_TPA2Ex7DdFh",
      "execution_count": null,
      "outputs": []
    },
    {
      "cell_type": "code",
      "source": [
        "# split the data into test and train by maintaining same distribution of output varaible 'y_true' [stratify=y_true]\n",
        "from sklearn.model_selection import train_test_split\n",
        "X_train, X_test, y_train, y_test = train_test_split(train, y_,test_size=0.20)"
      ],
      "metadata": {
        "id": "aDxaXZuFEAvr"
      },
      "id": "aDxaXZuFEAvr",
      "execution_count": null,
      "outputs": []
    },
    {
      "cell_type": "markdown",
      "source": [
        "## 4. Engineering"
      ],
      "metadata": {
        "id": "ZWMqCSykLH_y"
      },
      "id": "ZWMqCSykLH_y"
    },
    {
      "cell_type": "code",
      "source": [
        "# mean centering and unit variance.\n",
        "def calculate_zscore(df,continous_features):\n",
        "\n",
        "    # copying only the continous features from the dataframe\n",
        "    df = df[continous_features].copy()\n",
        "    for col in continous_features:\n",
        "        df[col] = ( df[col] - df[col].mean())/df[col].std()\n",
        "    return df\n",
        "\n",
        "train['cont1']"
      ],
      "metadata": {
        "colab": {
          "base_uri": "https://localhost:8080/"
        },
        "id": "y9vNU-AjLKdk",
        "outputId": "df85ac48-bb88-4484-ae56-761b792e40a0"
      },
      "id": "y9vNU-AjLKdk",
      "execution_count": null,
      "outputs": [
        {
          "output_type": "execute_result",
          "data": {
            "text/plain": [
              "0         0.467364\n",
              "1         0.262984\n",
              "2         0.217442\n",
              "3         0.257281\n",
              "4         0.225246\n",
              "            ...   \n",
              "188313    0.273618\n",
              "188314    0.364971\n",
              "188315    0.352724\n",
              "188316    0.327463\n",
              "188317    0.537725\n",
              "Name: cont1, Length: 188318, dtype: float64"
            ]
          },
          "metadata": {},
          "execution_count": 53
        }
      ]
    },
    {
      "cell_type": "code",
      "source": [
        "calculate_zscore(X_train,continous_features).describe()"
      ],
      "metadata": {
        "id": "sdSxOALELRNe",
        "outputId": "ae222619-9979-4746-977a-c8125007a159",
        "colab": {
          "base_uri": "https://localhost:8080/",
          "height": 165
        }
      },
      "id": "sdSxOALELRNe",
      "execution_count": null,
      "outputs": [
        {
          "output_type": "error",
          "ename": "NameError",
          "evalue": "ignored",
          "traceback": [
            "\u001b[0;31m---------------------------------------------------------------------------\u001b[0m",
            "\u001b[0;31mNameError\u001b[0m                                 Traceback (most recent call last)",
            "\u001b[0;32m<ipython-input-54-e4745d602584>\u001b[0m in \u001b[0;36m<cell line: 1>\u001b[0;34m()\u001b[0m\n\u001b[0;32m----> 1\u001b[0;31m \u001b[0mcalculate_zscore\u001b[0m\u001b[0;34m(\u001b[0m\u001b[0mX_train\u001b[0m\u001b[0;34m,\u001b[0m\u001b[0mcontinous_features\u001b[0m\u001b[0;34m)\u001b[0m\u001b[0;34m.\u001b[0m\u001b[0mdescribe\u001b[0m\u001b[0;34m(\u001b[0m\u001b[0;34m)\u001b[0m\u001b[0;34m\u001b[0m\u001b[0;34m\u001b[0m\u001b[0m\n\u001b[0m",
            "\u001b[0;31mNameError\u001b[0m: name 'continous_features' is not defined"
          ]
        }
      ]
    },
    {
      "cell_type": "markdown",
      "source": [
        "##XGBoost"
      ],
      "metadata": {
        "id": "z_u8cVQxAWoU"
      },
      "id": "z_u8cVQxAWoU"
    },
    {
      "cell_type": "code",
      "source": [
        "xg = XGBRegressor()"
      ],
      "metadata": {
        "id": "lsXPVSa6Fock"
      },
      "id": "lsXPVSa6Fock",
      "execution_count": null,
      "outputs": []
    },
    {
      "cell_type": "code",
      "source": [
        "prams={\n",
        "    'learning_rate':[0.01,0.03,0.05,0.1,0.15,0.2],\n",
        "     'n_estimators':[100,200,500,1000,2000],\n",
        "}"
      ],
      "metadata": {
        "id": "Q-khempMFp8O"
      },
      "id": "Q-khempMFp8O",
      "execution_count": null,
      "outputs": []
    },
    {
      "cell_type": "code",
      "source": [
        "xgb_grid = GridSearchCV(xg,prams,cv = 3,scoring=\"neg_mean_squared_error\",n_jobs = -1,verbose=True)"
      ],
      "metadata": {
        "id": "hBeWDgO8F995"
      },
      "id": "hBeWDgO8F995",
      "execution_count": null,
      "outputs": []
    },
    {
      "cell_type": "code",
      "source": [
        "xgb_grid.fit(X_train, y_train)"
      ],
      "metadata": {
        "id": "N8RskaXiGAAt"
      },
      "id": "N8RskaXiGAAt",
      "execution_count": null,
      "outputs": []
    },
    {
      "cell_type": "code",
      "source": [
        "results = pd.DataFrame.from_dict(xgb_grid.cv_results_)"
      ],
      "metadata": {
        "id": "WdWLAE7UGcKn"
      },
      "id": "WdWLAE7UGcKn",
      "execution_count": null,
      "outputs": []
    },
    {
      "cell_type": "code",
      "source": [
        "results.head(2)"
      ],
      "metadata": {
        "id": "S1WhWglCGh0O"
      },
      "id": "S1WhWglCGh0O",
      "execution_count": null,
      "outputs": []
    },
    {
      "cell_type": "code",
      "source": [
        "print(xgb_grid.best_params_)"
      ],
      "metadata": {
        "id": "BOvvtIl5Gjer"
      },
      "id": "BOvvtIl5Gjer",
      "execution_count": null,
      "outputs": []
    },
    {
      "cell_type": "code",
      "source": [
        "final_xg = XGBRegressor(base_score=0.5, booster='gbtree',\n",
        "                                    colsample_bylevel=1, colsample_bynode=1,\n",
        "                                    colsample_bytree=1, gamma=0,\n",
        "                                    importance_type='gain', learning_rate=0.1,\n",
        "                                    max_delta_step=0, max_depth=3,\n",
        "                                    min_child_weight=1, missing=None,\n",
        "                                    n_estimators=2000, n_jobs=1, nthread=None,\n",
        "                                    objective='reg:linear', random_state=0,\n",
        "                                    reg_alpha=0, reg_lambda=1,\n",
        "                                    scale_pos_weight=1, seed=None, silent=None,\n",
        "                                    subsample=1, verbosity=1).fit(X_train, y_train)"
      ],
      "metadata": {
        "id": "mht1Y3OMGlN7"
      },
      "id": "mht1Y3OMGlN7",
      "execution_count": null,
      "outputs": []
    },
    {
      "cell_type": "code",
      "source": [
        "y_pred_xg = np.expm1(final_xg.predict(X_test))\n",
        "y_test_xg = np.expm1(y_test)\n",
        "print(mean_absolute_error(y_pred_xg, y_test_xg))"
      ],
      "metadata": {
        "id": "kKeqRurmGmpJ"
      },
      "id": "kKeqRurmGmpJ",
      "execution_count": null,
      "outputs": []
    },
    {
      "cell_type": "markdown",
      "source": [
        "##Gradient Boosting Regressor"
      ],
      "metadata": {
        "id": "XIUTkM1GGrwx"
      },
      "id": "XIUTkM1GGrwx"
    },
    {
      "cell_type": "code",
      "source": [
        "\n",
        "GBR = GradientBoostingRegressor()\n",
        "prams={\n",
        "    'learning_rate':[0.01,0.03,0.05,0.1,0.15,0.2],\n",
        "     'n_estimators':[100,200,500,1000,2000],\n",
        "     'max_depth':[1,2,4],\n",
        "     'subsample':[.5,.75,1],\n",
        "     'random_state':[1]\n",
        "}"
      ],
      "metadata": {
        "id": "r8yvUswVGq8D"
      },
      "id": "r8yvUswVGq8D",
      "execution_count": null,
      "outputs": []
    },
    {
      "cell_type": "code",
      "source": [
        "gbr_grid = GridSearchCV(GBR,prams,cv = 3,scoring=\"neg_mean_squared_error\",n_jobs = -1,verbose=True)"
      ],
      "metadata": {
        "id": "_J6jia3VGwOx"
      },
      "id": "_J6jia3VGwOx",
      "execution_count": null,
      "outputs": []
    },
    {
      "cell_type": "code",
      "source": [
        "gbr_grid.fit(X_train, y_train)"
      ],
      "metadata": {
        "id": "xTbJE0hsGx1S"
      },
      "id": "xTbJE0hsGx1S",
      "execution_count": null,
      "outputs": []
    },
    {
      "cell_type": "code",
      "source": [
        "print(gbr_grid.best_params_)"
      ],
      "metadata": {
        "id": "4ZLkz-u9G0Zc"
      },
      "id": "4ZLkz-u9G0Zc",
      "execution_count": null,
      "outputs": []
    },
    {
      "cell_type": "code",
      "source": [
        "GBR_final = GradientBoostingRegressor(alpha=0.9, ccp_alpha=0.0,\n",
        "                                                 criterion='friedman_mse',\n",
        "                                                 init=None, learning_rate=0.05,\n",
        "                                                 loss='ls', max_depth=4,\n",
        "                                                 max_features=None,\n",
        "                                                 max_leaf_nodes=None,\n",
        "                                                 min_impurity_decrease=0.0,\n",
        "                                                 min_impurity_split=None,\n",
        "                                                 min_samples_leaf=1,\n",
        "                                                 min_samples_split=2,\n",
        "                                                 min_weight_fraction_leaf=0.0,\n",
        "                                                 n_estimators=2000,\n",
        "                                                 subsample=0.75, tol=0.0001,\n",
        "                                                 validation_fraction=0.1,\n",
        "                                                 verbose=0, warm_start=False)"
      ],
      "metadata": {
        "id": "BCt3E-RTG1Z-"
      },
      "id": "BCt3E-RTG1Z-",
      "execution_count": null,
      "outputs": []
    },
    {
      "cell_type": "code",
      "source": [
        "GBR_final.fit(X_train, y_train)"
      ],
      "metadata": {
        "id": "lQ8uXddyG42Y"
      },
      "id": "lQ8uXddyG42Y",
      "execution_count": null,
      "outputs": []
    },
    {
      "cell_type": "code",
      "source": [
        "y_pred_xbr = np.expm1(GBR_final.predict(X_test))\n",
        "y_test_xbr = np.expm1(y_test)\n",
        "print(mean_absolute_error(y_pred_xbr, y_test_xbr))"
      ],
      "metadata": {
        "id": "feqjp2esG6RE"
      },
      "id": "feqjp2esG6RE",
      "execution_count": null,
      "outputs": []
    },
    {
      "cell_type": "markdown",
      "source": [
        "###Lightbm"
      ],
      "metadata": {
        "id": "aH7GVHKQhIau"
      },
      "id": "aH7GVHKQhIau"
    },
    {
      "cell_type": "code",
      "source": [
        "lgb_r = LGBMRegressor(max_depth=-1, random_state=314, n_estimators=5000)\n",
        "params = { \n",
        "  'boosting_type': ['gbdt','dart','goss','rf'], \n",
        "  'metric': ['l2', 'l1'], \n",
        "  'min_child_weight': [1e-5, 1e-3, 1e-2, 1e-1, 1, 1e1, 1e2, 1e3, 1e4], \n",
        "  'learning_rate': [0.01,0.03,0.05,0.1,0.15,0.2], \n",
        "  'reg_alpha': [1e-2, 1e-1, 1, 1e1, 1e2], \n",
        "  'reg_lambda': [1e-2, 1e-1, 1, 1e1, 1e2]\n",
        "}\n",
        "lgbmr_rs = RandomizedSearchCV(lgb_r,params,cv = 3,scoring=\"neg_mean_squared_error\",n_job s = -1,verbose=True)\n",
        "lgbmr_rs.fit(X_train, y_train)"
      ],
      "metadata": {
        "id": "j0Q0Ujp-hDkP"
      },
      "id": "j0Q0Ujp-hDkP",
      "execution_count": null,
      "outputs": []
    },
    {
      "cell_type": "code",
      "source": [
        "print(lgbmr_rs.best_params_)"
      ],
      "metadata": {
        "id": "yCxysiVJhQA5"
      },
      "id": "yCxysiVJhQA5",
      "execution_count": null,
      "outputs": []
    },
    {
      "cell_type": "code",
      "source": [
        "Train_Data = pd.read_csv('train.csv') \n",
        "Test_Data = pd.read_csv('test.csv')\n",
        "r,c = Train_Data.shape   # r -> rows and c --> columns # 188318 and 13 \n",
        "Train_Data.drop(['id','loss'], axis=1, inplace=True True) \n",
        "Test_Data.drop(['id'], axis=1, inplace=True True)\n",
        "Train_Test = pd.concat((Train_Data, Test_Data)).reset_index(drop=True True)\n",
        "\n",
        "categorical_ = [feature for for feature in in Train_Test.columns if if 'cat' in in feature] \n",
        "continuous_ = [feature for for feature in in Train_Test.columns if if 'cont' in in feature]\n",
        "\n",
        "for feature in in categorical_: Train_Test[feature] = le.fit_transform(Train_Test[feature])\n",
        "\n",
        "Train_Test[\"cont1\"], lam = boxcox(Train_Test[\"cont1\"] + 1) \n",
        "Train_Test[\"cont2\"], lam = boxcox(Train_Test[\"cont2\"] + 1)  \n",
        "Train_Test[\"cont4\"], lam = boxcox(Train_Test[\"cont4\"] + 1) \n",
        "Train_Test[\"cont5\"], lam = boxcox(Train_Test[\"cont5\"] + 1) \n",
        "Train_Test[\"cont6\"], lam = boxcox(Train_Test[\"cont6\"] + 1) \n",
        "Train_Test[\"cont7\"], lam = boxcox(Train_Test[\"cont7\"] + 1) \n",
        "Train_Test[\"cont8\"], lam = boxcox(Train_Test[\"cont8\"] + 1) \n",
        "Train_Test[\"cont9\"], lam = boxcox(Train_Test[\"cont9\"] + 1) \n",
        "Train_Test[\"cont10\"], lam = boxcox(Train_Test[\"cont10\"] + 1) \n",
        "Train_Test[\"cont11\"], lam = boxcox(Train_Test[\"cont11\"] + 1) \n",
        "Train_Test[\"cont12\"], lam = boxcox(Train_Test[\"cont12\"] + 1) \n",
        "Train_Test[\"cont13\"], lam = boxcox(Train_Test[\"cont13\"] + 1)\n",
        "\n",
        "Train_Data = Train_Test.iloc[:r, :] \n",
        "Test_Data = Train_Test.iloc[r:, :]\n",
        "\n",
        "X_train, X_test, y_train, y_test = train_test_split(Train_Data, y_,test_size=0.20)"
      ],
      "metadata": {
        "id": "SiRSbd6Ohbxs"
      },
      "id": "SiRSbd6Ohbxs",
      "execution_count": null,
      "outputs": []
    },
    {
      "cell_type": "markdown",
      "source": [
        "###Modelo final"
      ],
      "metadata": {
        "id": "06lXcnHIj0v7"
      },
      "id": "06lXcnHIj0v7"
    },
    {
      "cell_type": "code",
      "source": [
        "gridsearch_params = [\n",
        "    (max_depth,subsample)\n",
        "    for max_depth in range(4,18,4)\n",
        "\tfor subsample in [n/10 for n in range(2,12,2)]\n",
        "]\n",
        "params = {}\n",
        "\n",
        "\"\"\"\n",
        "Reading Train and Test data\n",
        "\"\"\"\n",
        "Train_Data = pd.read_csv('train.csv')\n",
        "Test_Data = pd.read_csv('test.csv')\n",
        "Submission_Id = Test_Data['id']\n",
        "\n",
        "r,c = Train_Data.shape   # r -> rows and c  --> columns # 188318 and 130\n",
        "\n",
        "y = np.log(Train_Data['loss'] + 200)\n",
        "\n",
        "Train_Data.drop(['id','loss'], axis=1, inplace=True)\n",
        "Test_Data.drop(['id'], axis=1, inplace=True)\n",
        "\n",
        "Train_Test = pd.concat((Train_Data, Test_Data)).reset_index(drop=True)\n",
        "\n",
        "def evalerror(preds, dtrain):\n",
        "    labels = dtrain.get_label()\n",
        "    return 'mae', mean_absolute_error(np.exp(preds), np.exp(labels))\n",
        "\n",
        "if __name__ == '__main__':\n",
        "  cat_feature = [n for n in Train_Data.columns if n.startswith('cat')]\n",
        "  for column in cat_feature:\n",
        "    if Train_Data[column].nunique() != Test_Data[column].nunique():\n",
        "      Unique_classes_Train = set(Train_Data[column].unique())\n",
        "      Unique_classes_Test = set(Test_Data[column].unique())\n",
        "      missing_train = Unique_classes_Train.difference(Unique_classes_Test)           # set_A.difference(set_B) for (A - B)\n",
        "      missing_test =  Unique_classes_Test.difference(Unique_classes_Train)\n",
        "\n",
        "\n",
        "      All_misisng = missing_train.union(missing_test)\n",
        "\n",
        "      # Replace all misisng categories with a common category instead of removing. \n",
        "      def missing_common(x):\n",
        "        if x in All_misisng:\n",
        "          return np.nan\n",
        "        return x\n",
        "      \n",
        "      Train_Test[column] = Train_Test[column].apply(lambda x: missing_common(x), 1)   # Axis 1 :: columns\n",
        "    \n",
        "    Train_Test[column] = pd.factorize(Train_Test[column].values, sort=True)[0]\n",
        "\n",
        "  Train_Data_final = Train_Test.iloc[:r, :]\n",
        "  Test_Data_final = Train_Test.iloc[r:, :]  \n",
        "\n",
        "  min_mae = float(\"Inf\")\n",
        "\n",
        "   best_params = None \n",
        "\n",
        "  xgtrain = xgb.DMatrix(Train_Data_final, label=y)\n",
        "\n",
        "  for max_depth, subsample in gridsearch_params:\n",
        "    print(\"CV with max_depth={}, subsample={}\".format(max_depth, subsample))\n",
        "\n",
        "    params['max_depth'] = max_depth\n",
        "    params['subsample'] = subsample\n",
        "\n",
        "    cv_results = xgb.cv(\n",
        "        params,\n",
        "        xgtrain,\n",
        "        1000,\n",
        "        seed=42,\n",
        "        nfold=3,\n",
        "        metrics={'mae'},\n",
        "        early_stopping_rounds=10\n",
        "    )\n",
        "\n",
        "\n",
        "    mean_mae = cv_results['test-mae-mean'].min()\n",
        "    boost_rounds = cv_results['test-mae-mean'].argmin()\n",
        "    print(\"\\tMAE {} for {} rounds\".format(mean_mae, boost_rounds))\n",
        "    if mean_mae < min_mae:\n",
        "        min_mae = mean_mae\n",
        "        best_params = (max_depth, subsample)\n",
        "\n",
        "    print(\"Best params: {}, {}, MAE: {}\".format(best_params[0], best_params[1], min_mae))\n",
        "    \n",
        "####################################################################################################################    \n",
        "gridsearch_params = [\n",
        "    (alpha,gamma)\n",
        "    for alpha in [1/n for n in range(1,3)]\n",
        "\tfor gamma in [1/n for n in range(1,3)]\n",
        "]*+\n",
        "\n",
        "params = {}\n",
        "\n",
        "for alpha, gamma in gridsearch_params:\n",
        "  print(\"CV with alpha={}, gamma={}\".format(alpha, gamma))\n",
        "  params['max_depth'] = 12\n",
        "  params['subsample'] = 0.8\n",
        "  params['alpha'] = alpha\n",
        "  params['gamma'] = gamma\n",
        "  \n",
        "  cv_results = xgb.cv(\n",
        "        params,\n",
        "        xgtrain,\n",
        "        1000,\n",
        "        seed=42,\n",
        "        nfold=3,\n",
        "        metrics={'mae'},\n",
        "        early_stopping_rounds=10\n",
        "    )\n",
        "  \n",
        "  mean_mae = cv_results['test-mae-mean'].min()\n",
        "  boost_rounds = cv_results['test-mae-mean'].argmin()\n",
        "  print(\"\\tMAE {} for {} rounds\".format(mean_mae, boost_rounds))\n",
        "  if mean_mae < min_mae:\n",
        "    min_mae = mean_mae\n",
        "    best_params = (alpha, gamma)\n",
        "    \n",
        "  print(\"Best params: {}, {}, MAE: {}\".format(best_params[0], best_params[1], min_mae))\n",
        "###########################################################################################################\n",
        "\n",
        "gridsearch_params = [\n",
        "    (colsample_bytree,eta)\n",
        "    for colsample_bytree in [1/n for n in range(1,3)]\n",
        "\t  for eta in [1/(10**n) for n in range(1,4)]\n",
        "]\n",
        "\n",
        "params = {}\n",
        "\n",
        "for colsample_bytree, eta in gridsearch_params:\n",
        "  print(\"CV with colsample_bytree={}, eta={}\".format(colsample_bytree, eta))\n",
        "  params['max_depth'] = 12\n",
        "  params['subsample'] = 0.8\n",
        "  params['alpha'] = 1"
      ],
      "metadata": {
        "id": "nZWHFeC-kxHX"
      },
      "id": "nZWHFeC-kxHX",
      "execution_count": null,
      "outputs": []
    },
    {
      "cell_type": "code",
      "source": [
        "\"\"\"\n",
        "Reading Train and Test data\n",
        "\"\"\"\n",
        "# Reading training data\n",
        "Train_Data = pd.read_csv('train.csv')\n",
        "## Reading test data\n",
        "Test_Data = pd.read_csv('test.csv')\n",
        "# saving ID for submission file.\n",
        "Submission_Id = Test_Data['id']\n",
        "\n",
        "r,c = Train_Data.shape   # r -> rows and c  --> columns # 188318 and 130\n",
        "\n",
        "#Reading y value.\n",
        "y = np.log(Train_Data['loss'] + 200) \n",
        "\n",
        "# Removing ID and LOSS columns from Traina nd ID from Test\n",
        "Train_Data.drop(['id','loss'], axis=1, inplace=True)\n",
        "Test_Data.drop(['id'], axis=1, inplace=True)\n",
        "\n",
        "## Concatinating Train and Test\n",
        "Train_Test = pd.concat((Train_Data, Test_Data)).reset_index(drop=True)\n",
        "\n",
        "## Custom metrice : Error calculation\n",
        "def evalerror(preds, dtrain):\n",
        "    labels = dtrain.get_label()\n",
        "    return 'mae', mean_absolute_error(np.exp(preds), np.exp(labels))\n",
        "\n",
        "## main funtion\n",
        "if __name__ == '__main__':\n",
        "  # Filtering categorical dfeatures.\n",
        "  cat_feature = [n for n in Train_Data.columns if n.startswith('cat')]\n",
        "  ## Looping through categorical features. \n",
        "  for column in cat_feature:\n",
        "    # For every column , validating the Train classes and test classes equal or not. \n",
        "    if Train_Data[column].nunique() != Test_Data[column].nunique():\n",
        "      ## Reading only unique train class from eac column \n",
        "      Unique_classes_Train = set(Train_Data[column].unique())\n",
        "      ## Reading only unique test class from eac column \n",
        "      Unique_classes_Test = set(Test_Data[column].unique())\n",
        "      ## Classes available in train but not in test \n",
        "      missing_train = Unique_classes_Train.difference(Unique_classes_Test)           # set_A.difference(set_B) for (A - B)\n",
        "      ## Classes available in test but not in train \n",
        "      missing_test =  Unique_classes_Test.difference(Unique_classes_Train)\n",
        "      ## Reading all missing classes from train and test\n",
        "      All_misisng = missing_train.union(missing_test)\n",
        "\n",
        "\n",
        "      # Replace all misisng categories with a common category instead of removing. \n",
        "      def missing_common(x):\n",
        "        if x in All_misisng:\n",
        "          return np.nan\n",
        "        return x\n",
        "      \n",
        "      ## missing classes is replaced with null values. \n",
        "      ## Pandas factorize replaces all categorical variables by integers, and NaN with -1, and xgboost treats them as the same category.\n",
        "      Train_Test[column] = Train_Test[column].apply(lambda x: missing_common(x), 1)   # Axis 1 :: columns\n",
        "    \n",
        "    ## factorize the categorical features. \n",
        "    Train_Test[column] = pd.factorize(Train_Test[column].values, sort=True)[0]\n",
        "  \n",
        "  ## Separating the Train and Test data.\n",
        "  Train_Data_final = Train_Test.iloc[:r, :]\n",
        "  Test_Data_final = Train_Test.iloc[r:, :]\n",
        "\n",
        "   ## K-fold cross validation. \n",
        "  kf = KFold(n_splits=3)\n",
        "  prediction = np.zeros(Submission_Id.shape)\n",
        "  \n",
        "  ## Train data divided into 3 folds with 2 for training and 1 for testing \n",
        "  for train_index, test_index in kf.split(Train_Data_final):\n",
        "    X_train, X_test = Train_Data_final.iloc[train_index], Train_Data_final.iloc[test_index]\n",
        "    y_train, y_test = y.iloc[train_index], y.iloc[test_index]\n",
        "\n",
        "    params = {\n",
        "            'min_child_weight': 1,             # Default valaue\n",
        "            'eta': 0.01,                       # Hyper parameter\n",
        "            'colsample_bytree': 0.5,            # Hyper parameter\n",
        "            'max_depth': 12,                    # Hyper parameter\n",
        "            'subsample': 0.8,                   # Hyper parameter\n",
        "            'alpha': 1,                         # Hyper parameter\n",
        "            'gamma': 1,                         # Hyper parameter\n",
        "            'silent': 1,\n",
        "            'verbose_eval': True,\n",
        "             'seed': 2020,\n",
        "        }\n",
        "\n",
        "     ## Converting DataFrame to Dmatrix, DMatrix is an internal data structure that is used by XGBoost, which is optimized for both memory efficiency and training speed.\n",
        "    xgtrain = xgb.DMatrix(X_train, label=y_train)\n",
        "    xgtest  = xgb.DMatrix(X_test, label=y_test)\n",
        "    xgtest_final = xgb.DMatrix(Test_Data_final)"
      ],
      "metadata": {
        "id": "TqdqNFsZmINe"
      },
      "id": "TqdqNFsZmINe",
      "execution_count": null,
      "outputs": []
    }
  ],
  "metadata": {
    "kernelspec": {
      "display_name": "Python 3 (ipykernel)",
      "language": "python",
      "name": "python3"
    },
    "language_info": {
      "codemirror_mode": {
        "name": "ipython",
        "version": 3
      },
      "file_extension": ".py",
      "mimetype": "text/x-python",
      "name": "python",
      "nbconvert_exporter": "python",
      "pygments_lexer": "ipython3",
      "version": "3.9.7"
    },
    "colab": {
      "provenance": []
    }
  },
  "nbformat": 4,
  "nbformat_minor": 5
}